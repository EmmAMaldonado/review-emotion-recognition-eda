{
 "cells": [
  {
   "attachments": {},
   "cell_type": "markdown",
   "metadata": {},
   "source": [
    "# Data analysis\n",
    "En este notebook se procedera con la exploracion de los datos, obtenidos al clasificar los articulos obtenidos (n=99) en las tablas que se encuentran en la carpeta /data. Primero se procede con el seteo del work directory, el importado de las librerias y funciones a usar, y la creacion de los dataframes para el analisis exploratorio de los datos."
   ]
  },
  {
   "attachments": {},
   "cell_type": "markdown",
   "metadata": {},
   "source": [
    "## Primary stepts"
   ]
  },
  {
   "attachments": {},
   "cell_type": "markdown",
   "metadata": {},
   "source": [
    "Import libraries and functions"
   ]
  },
  {
   "cell_type": "code",
   "execution_count": null,
   "metadata": {},
   "outputs": [],
   "source": [
    "#Import libraries to be used\n",
    "import pandas as pd\n",
    "import seaborn as sns\n",
    "import numpy as np\n",
    "import matplotlib\n",
    "import matplotlib.pyplot as plt\n",
    "import plotly.express as px\n",
    "import zepid\n",
    "from zepid.graphics import EffectMeasurePlot\n",
    "import networkx as nx\n",
    "from numpy import genfromtxt\n",
    "from scipy import stats\n",
    "from IPython.display import Image\n",
    "from thefuzz import fuzz\n",
    "\n",
    "#Import functions to be used\n",
    "from scripts import functions as fn"
   ]
  },
  {
   "attachments": {},
   "cell_type": "markdown",
   "metadata": {},
   "source": [
    "Dataframes´s creation"
   ]
  },
  {
   "cell_type": "code",
   "execution_count": null,
   "metadata": {},
   "outputs": [],
   "source": [
    "#dataframes to be used, one for every sheet\n",
    "df_metadata = pd.read_csv('.\\data\\Tabla Normalizada - Metadata.csv')\n",
    "df_data_type = pd.read_csv('.\\data\\Tabla Normalizada - Data type.csv')\n",
    "df_participants = pd.read_csv('.\\data\\Tabla Normalizada - Participants.csv')\n",
    "df_self_report = pd.read_csv('.\\data\\Tabla Normalizada - Self report.csv')\n",
    "df_eet = pd.read_csv('.\\data\\Tabla Normalizada - Emotion elicitation techniques.csv')\n",
    "df_eda = pd.read_csv('.\\data\\Tabla Normalizada - EDA.csv')\n",
    "df_slm = pd.read_csv('.\\data\\Tabla Normalizada - Statistical Learning model.csv')\n",
    "df_performances = pd.read_csv('.\\data\\Tabla Normalizada - Performances.csv')\n",
    "df_alg_perf = pd.read_csv('.\\data\\Tabla Normalizada - Alg_Perf.csv')"
   ]
  },
  {
   "attachments": {},
   "cell_type": "markdown",
   "metadata": {},
   "source": [
    "Set default plots caracteristiccs"
   ]
  },
  {
   "cell_type": "code",
   "execution_count": null,
   "metadata": {},
   "outputs": [],
   "source": [
    "sns.set_context('notebook')"
   ]
  },
  {
   "attachments": {},
   "cell_type": "markdown",
   "metadata": {},
   "source": [
    "## Analysis\n",
    "Teniendo en cuenta las supracategorias () con las que fueron clasificados los articulos, se procede con el analisis de las mismas en orden."
   ]
  },
  {
   "attachments": {},
   "cell_type": "markdown",
   "metadata": {},
   "source": [
    "### 1. Metadata"
   ]
  },
  {
   "cell_type": "code",
   "execution_count": null,
   "metadata": {},
   "outputs": [],
   "source": [
    "df_metadata=df_metadata.fillna('-')\n",
    "df_metadata_without_duplicates = df_metadata.drop_duplicates(subset='paper_id')"
   ]
  },
  {
   "attachments": {},
   "cell_type": "markdown",
   "metadata": {},
   "source": [
    "#### 1.1. Countries"
   ]
  },
  {
   "cell_type": "code",
   "execution_count": null,
   "metadata": {},
   "outputs": [],
   "source": [
    "countries_1 = df_metadata_without_duplicates[\"first_author_country_affiliation\"].unique()\n",
    "\n",
    "countries = df_metadata_without_duplicates.pivot_table(columns=['first_author_country_affiliation'], aggfunc='size')\n",
    "df_countries = pd.DataFrame(countries)\n",
    "\n",
    "order = ['China','USA', 'Germany', 'India','Turkey','Italy', 'Malaysia','Spain','Iran', 'Switzerland','Romania','Pakistan', 'Taiwan','Greece', 'Japan',\n",
    "'Austria', 'Tunisia','Macedonian', 'Finland', 'Slovenia', 'Portugal', 'Korea',\n",
    "'UK', 'Indonesia','Canada', 'France', 'Lithuania','Egypt','Colombia', 'Australia', 'Poland']\n",
    "\n",
    "df_countries.loc[order].plot(kind='bar', xlabel='country', ylabel='paper quantity')\n",
    "plt.show()\n",
    "\n",
    "#Papers por continente - plot\n",
    "papers_continents = {'continents' : ['Asia', 'Europa','America','Africa','Australia'],\n",
    "'quantity' : [49, 39, 9, 3, 1]}\n",
    "df_continents = pd.DataFrame(papers_continents)\n",
    "print(df_continents)\n",
    "\n",
    "df_continents.set_index('continents').plot(kind='bar',xlabel='continent', ylabel='paper quantity')\n",
    "plt.show()"
   ]
  },
  {
   "cell_type": "code",
   "execution_count": null,
   "metadata": {},
   "outputs": [],
   "source": [
    "#Aquellos que tenian una frecuencia de 4 o menos los agrupamos en 'Others'\n",
    "mapping_others ={\n",
    "        \n",
    "        'Australia': 'WEIRD',\n",
    "        'Austria': 'WEIRD',\n",
    "        'Canada': 'WEIRD',\n",
    "        'Finland': 'WEIRD',\n",
    "        'France': 'WEIRD',\n",
    "        'Germany': 'WEIRD',\n",
    "        'Italy': 'WEIRD',\n",
    "        'Lithuania': 'WEIRD',\n",
    "        'Poland': 'WEIRD',\n",
    "        'Portugal': 'WEIRD',\n",
    "        'Slovenia': 'WEIRD',\n",
    "        'Spain': 'WEIRD',\n",
    "        'Switzerland': 'WEIRD',\n",
    "        'UK': 'WEIRD',\n",
    "        'USA': 'WEIRD'}\n",
    "\n",
    "df_countries_with_weird = df_countries.copy()\n",
    "df_countries_with_weird.reset_index(inplace=True)\n",
    "df_countries_with_weird.loc[:,'first_author_country_affiliation'] = df_countries_with_weird.loc[:,\"first_author_country_affiliation\"].replace(mapping_others)\n",
    "df_countries_with_weird.value_counts()"
   ]
  },
  {
   "cell_type": "code",
   "execution_count": null,
   "metadata": {},
   "outputs": [],
   "source": [
    "df_countries"
   ]
  },
  {
   "attachments": {},
   "cell_type": "markdown",
   "metadata": {},
   "source": [
    "#### 1.2. Source type"
   ]
  },
  {
   "cell_type": "code",
   "execution_count": null,
   "metadata": {},
   "outputs": [],
   "source": [
    "df_sources = df_metadata_sin_duplicates.iloc[:,7:10]\n",
    "def get_value(row):\n",
    "     for c in df_sources.columns:\n",
    "         if row[c]== 'x':\n",
    "             return c\n",
    "\n",
    "df_sources = df_sources.apply(get_value, axis=1)\n",
    "df_sources = pd.DataFrame(df_sources)\n",
    "df_sources.columns = ['Source type']\n",
    "\n",
    "#ploteo\n",
    "quantity = df_sources['Source type'].value_counts()\n",
    "df_quantity = pd.DataFrame(quantity)\n",
    "\n",
    "\n",
    "sns.countplot(x='Source type', data=df_sources)"
   ]
  },
  {
   "cell_type": "code",
   "execution_count": null,
   "metadata": {},
   "outputs": [],
   "source": [
    "df_quantity"
   ]
  },
  {
   "attachments": {},
   "cell_type": "markdown",
   "metadata": {},
   "source": [
    "#### ¿De que revistas cientificas provinieron la mayoria de los papers? ¿Cual era su orientacion (psicologica o ingenieria de datos)?\n",
    "7. Gráfico frecuencia de papers según revista científica de origen, distinguiendo entre las que poseen orientación en ingeniería de datos y las que no\n",
    "\n",
    "Nota: falta filtrar bien cuales son journal, y cuales de estas son de ingenieria o no (diferenciarlas con color o hue)"
   ]
  },
  {
   "cell_type": "code",
   "execution_count": null,
   "metadata": {},
   "outputs": [],
   "source": [
    "#por revista\n",
    "df_metadata=df_metadata.fillna('-')\n",
    "df_metadata_sin_duplicates = df_metadata.drop_duplicates(subset='paper_id')\n",
    "\n",
    "df_source_title = df_metadata_sin_duplicates[['paper_id','source_title','source_type_journal']]\n",
    "df_source_title = df_source_title[df_source_title['source_type_journal'].isin(['x', 'X'])] \n",
    "\n",
    "titulos = [' ', 'Journal', 'Cantidad']\n",
    "bar_plot('source_title',df_source_title,titulos)"
   ]
  },
  {
   "cell_type": "code",
   "execution_count": null,
   "metadata": {},
   "outputs": [],
   "source": [
    "df_source_title[\"source_title\"].value_counts()"
   ]
  },
  {
   "cell_type": "code",
   "execution_count": null,
   "metadata": {},
   "outputs": [],
   "source": [
    "df_source_title[\"source_title\"].value_counts(normalize=True).mul(100).round(1).astype(str) + '%'"
   ]
  },
  {
   "cell_type": "code",
   "execution_count": null,
   "metadata": {},
   "outputs": [],
   "source": [
    "serie_sources = df_source_title[\"source_title\"].value_counts()\n",
    "df_serie_sources = serie_sources.to_frame()\n",
    "df_serie_sources = df_serie_sources.reset_index()\n",
    "df_serie_sources.rename(columns = {'index':'algoritmo', 'variable':'cantidad'}, inplace = True)"
   ]
  },
  {
   "cell_type": "code",
   "execution_count": null,
   "metadata": {},
   "outputs": [],
   "source": [
    "col1 = df_serie_sources.columns[0]\n",
    "col2 = df_serie_sources.columns[1]\n",
    "\n",
    "mapping_others = {}\n",
    "\n",
    "for i, row in df_serie_sources.iterrows():\n",
    "    if row[col2] == 1:\n",
    "        mapping_others.update({row[col1]: \"Others (=1)\"})"
   ]
  },
  {
   "cell_type": "code",
   "execution_count": null,
   "metadata": {},
   "outputs": [],
   "source": [
    "sources_with_others = df_source_title.copy()\n",
    "sources_with_others.loc[:,'source_title'] = sources_with_others.loc[:,'source_title'].replace(mapping_others)\n",
    "sources_with_others['source_title'].value_counts()\n",
    "\n",
    "titulos = [' ', 'Journal', 'Cantidad']\n",
    "bar_plot('source_title',sources_with_others,titulos)"
   ]
  },
  {
   "cell_type": "code",
   "execution_count": null,
   "metadata": {},
   "outputs": [],
   "source": [
    "sources_with_others[\"source_title\"].value_counts()"
   ]
  },
  {
   "cell_type": "code",
   "execution_count": null,
   "metadata": {},
   "outputs": [],
   "source": [
    "sources_with_others[\"source_title\"].value_counts(normalize=True).mul(100).round(1).astype(str) + '%'"
   ]
  },
  {
   "attachments": {},
   "cell_type": "markdown",
   "metadata": {},
   "source": [
    "### 2. Data type"
   ]
  },
  {
   "cell_type": "code",
   "execution_count": null,
   "metadata": {},
   "outputs": [],
   "source": [
    "df_data_type = df_data_type.fillna('-')"
   ]
  },
  {
   "attachments": {},
   "cell_type": "markdown",
   "metadata": {},
   "source": [
    "#### ¿Cual es la evolucion temporal (2010-2020) del uso de las bases de datos privadas y publicas?\n",
    "5. Gráfico de barra por año (2010-2020) según tipos de base de datos (privada, pública)"
   ]
  },
  {
   "cell_type": "code",
   "execution_count": null,
   "metadata": {},
   "outputs": [],
   "source": [
    "df_data_type = df_data_type.groupby(['paper_id', 'db_access']).nth(0)\n",
    "df_data_type.reset_index(inplace=True)"
   ]
  },
  {
   "cell_type": "code",
   "execution_count": null,
   "metadata": {},
   "outputs": [],
   "source": [
    "df_data_type"
   ]
  },
  {
   "cell_type": "code",
   "execution_count": null,
   "metadata": {},
   "outputs": [],
   "source": [
    "df_data_type[\"db_access\"] = df_data_type[\"db_access\"].str.capitalize()\n",
    "df_data_type = df_data_type.rename(columns={\"db_access\":\"Access\"})"
   ]
  },
  {
   "cell_type": "code",
   "execution_count": null,
   "metadata": {},
   "outputs": [],
   "source": [
    "category_order = [2010, 2011, 2012, 2013, 2014, 2015, 2015, 2016, 2017, 2018, 2019, 2020]\n",
    "g = sns.countplot(x='year', \n",
    "    data= df_data_type, \n",
    "    hue='Access', \n",
    "    order=category_order)\n",
    "g.set(xlabel = 'Year', ylabel = 'Quantity')\n",
    "plt.savefig('.\\\\Emmanuel\\\\figures\\\\NUEVOS. Frecuencia de uso de bases de datos públicas y privadas por año (2010 - 2020).png')"
   ]
  },
  {
   "cell_type": "code",
   "execution_count": null,
   "metadata": {},
   "outputs": [],
   "source": [
    "df_data_type[\"Access\"].value_counts()"
   ]
  },
  {
   "cell_type": "code",
   "execution_count": null,
   "metadata": {},
   "outputs": [],
   "source": [
    "df_data_type[\"Access\"].value_counts(normalize=True).mul(100).round(1).astype(str) + '%'"
   ]
  },
  {
   "cell_type": "code",
   "execution_count": null,
   "metadata": {},
   "outputs": [],
   "source": [
    "df_access = df_data_type[[\"paper_id\",\"apa_citation\",'Access', \"year\", \"model_id\"]]\n",
    "\n",
    "df_access = df_access.groupby(\n",
    "        [\"paper_id\",'Access']\n",
    "        ).nth(0)\n",
    "df_access.reset_index(inplace=True)\n",
    "\n",
    "df_access_crosstab = pd.crosstab(index=df_access['year'], columns=df_access['Access'],normalize='index')\n",
    "\n",
    "g = df_access_crosstab.plot(kind='bar',\n",
    "                        stacked=True,\n",
    "                        rot=0)\n",
    "g.set_ylim([0, 1])\n",
    "g.set(xlabel = 'Year', ylabel = 'Quantity')"
   ]
  },
  {
   "attachments": {},
   "cell_type": "markdown",
   "metadata": {},
   "source": [
    "#### ¿Cual es la frecuencia de uso de cada bse de datos encontrada?\n",
    "\n",
    "6. Gráfico frencuencia de uso de cada base de datos pública encontrada\n",
    "- Interpretacion: Un predominio de pocas bases de datos. Estamos todo el tiempo sacando conclusiones sobre los mismos sujetos? Ver predominio de bases de datos publicas por sobre las privadas\n",
    "- No se ha tenido en cuenta el dato aportado por Lorenzo (mas de una db por paper)"
   ]
  },
  {
   "cell_type": "code",
   "execution_count": null,
   "metadata": {},
   "outputs": [],
   "source": [
    "df_data_type_sin_duplicates = df_data_type.drop_duplicates(subset='paper_id')"
   ]
  },
  {
   "cell_type": "code",
   "execution_count": null,
   "metadata": {},
   "outputs": [],
   "source": [
    "df_db = df_data_type.groupby(['paper_id',\"public_database\",'use_multiple_db', 'db_private', 'db_public','db_private_and_public', 'db_uppon_request', 'is_database']).nth(0)\n",
    "df_db.reset_index(inplace=True)"
   ]
  },
  {
   "cell_type": "code",
   "execution_count": null,
   "metadata": {},
   "outputs": [],
   "source": [
    "df_db = multi_reversing(df_db, 'model_id', df_db[[\"public_database\",'use_multiple_db', 'db_private', 'db_public','db_private_and_public', 'db_uppon_request', 'is_database']])\n",
    "df_db = df_db.replace('Multimodal Dyadic Behavior (MMDB)', 'MMDB')"
   ]
  },
  {
   "cell_type": "code",
   "execution_count": null,
   "metadata": {},
   "outputs": [],
   "source": [
    "df_db[\"variable\"].value_counts()"
   ]
  },
  {
   "cell_type": "code",
   "execution_count": null,
   "metadata": {},
   "outputs": [],
   "source": [
    "df_db[\"variable\"].value_counts(normalize=True).mul(100).round(1).astype(str) + '%'"
   ]
  },
  {
   "cell_type": "code",
   "execution_count": null,
   "metadata": {},
   "outputs": [],
   "source": [
    "df_data_type[[\"Access\", \"model_id\", \"public_database\",'use_multiple_db', 'db_private', 'db_public','db_private_and_public', 'db_uppon_request', 'is_database']]\n",
    "df_data_type[[\"public_database\",'use_multiple_db', 'db_private', 'db_public','db_private_and_public', 'db_uppon_request', 'is_database']].value_counts()\n"
   ]
  },
  {
   "cell_type": "code",
   "execution_count": null,
   "metadata": {},
   "outputs": [],
   "source": [
    "df_data_type[\"Access\"].value_counts()"
   ]
  },
  {
   "cell_type": "code",
   "execution_count": null,
   "metadata": {},
   "outputs": [],
   "source": [
    "freq_data_base = df_data_type.groupby(['paper_id', 'DEAP',\n",
    "       'AMIGOS', 'MAHNOB', 'CASE', 'Ascertain', 'Cog.load',\n",
    "       'Multimodal Dyadic Behavior (MMDB)', 'RECOLA', 'DECAF',\n",
    "       'Driving Workload', 'Liris', 'SenseEmotion', 'PMEmo',\n",
    "       'Hazumi1911', 'Bio Vid Emo DB', 'DREAMER',\n",
    "       'Non-EEG Biosignals Data Set for Assessment and Visualization of Neurological Status',\n",
    "       'Stress Recognition in Automobile Drivers Data Set', 'PsPM-HRA1']).nth(0)\n",
    "freq_data_base.reset_index(inplace=True)\n",
    "\n",
    "db_freq = multi_reversing(freq_data_base, 'model_id', freq_data_base[['DEAP',\n",
    "       'AMIGOS', 'MAHNOB', 'CASE', 'Ascertain', 'Cog.load',\n",
    "       'Multimodal Dyadic Behavior (MMDB)', 'RECOLA', 'DECAF',\n",
    "       'Driving Workload', 'Liris', 'SenseEmotion', 'PMEmo', 'Hazumi1911', 'Bio Vid Emo DB', 'DREAMER',\n",
    "       'Non-EEG Biosignals Data Set for Assessment and Visualization of Neurological Status',\n",
    "       'Stress Recognition in Automobile Drivers Data Set', 'PsPM-HRA1']])\n",
    "db_freq['variable'].value_counts()"
   ]
  },
  {
   "cell_type": "code",
   "execution_count": null,
   "metadata": {},
   "outputs": [],
   "source": [
    "db_freq['variable'].value_counts(normalize=True).mul(100).round(1).astype(str) + '%'"
   ]
  },
  {
   "cell_type": "code",
   "execution_count": null,
   "metadata": {},
   "outputs": [],
   "source": [
    "db_freq['variable'] = db_freq['variable'].replace(\n",
    "    to_replace=['Multimodal Dyadic Behavior (MMDB)'], \n",
    "    value='MMDB')"
   ]
  },
  {
   "cell_type": "code",
   "execution_count": null,
   "metadata": {},
   "outputs": [],
   "source": [
    "titulos = [' ', 'Databases', 'Quantity']\n",
    "bar_plot('variable',db_freq,titulos)"
   ]
  },
  {
   "attachments": {},
   "cell_type": "markdown",
   "metadata": {},
   "source": [
    "### 3. Participants"
   ]
  },
  {
   "cell_type": "code",
   "execution_count": null,
   "metadata": {},
   "outputs": [],
   "source": [
    "df_participants= df_participants.fillna('-')\n",
    "df_participants.head()"
   ]
  },
  {
   "attachments": {},
   "cell_type": "markdown",
   "metadata": {},
   "source": [
    "#### country"
   ]
  },
  {
   "cell_type": "code",
   "execution_count": null,
   "metadata": {},
   "outputs": [],
   "source": [
    "df_participants_country = df_participants.groupby(['paper_id', 'country']).nth(0)\n",
    "df_participants_country.reset_index(inplace =  True)\n",
    "df_participants_country[\"country\"].value_counts(normalize=True).mul(100).round(1).astype(str) + '%'"
   ]
  },
  {
   "cell_type": "code",
   "execution_count": null,
   "metadata": {},
   "outputs": [],
   "source": [
    "participants_total = df_participants.groupby(['paper_id', 'N']).nth(0)\n",
    "participants_total.reset_index(inplace =  True)"
   ]
  },
  {
   "cell_type": "code",
   "execution_count": null,
   "metadata": {},
   "outputs": [],
   "source": [
    "participants_total[\"N\"].unique()"
   ]
  },
  {
   "cell_type": "code",
   "execution_count": null,
   "metadata": {},
   "outputs": [],
   "source": [
    "participants_total[\"N\"].value_counts()"
   ]
  },
  {
   "cell_type": "code",
   "execution_count": null,
   "metadata": {},
   "outputs": [],
   "source": [
    "participants_without_n= participants_total[participants_total['N']== '27']\n",
    "participants_without_n"
   ]
  },
  {
   "cell_type": "code",
   "execution_count": null,
   "metadata": {},
   "outputs": [],
   "source": [
    "participants_n= participants_total[participants_total['N']!= '-']\n",
    "participants_n"
   ]
  },
  {
   "cell_type": "code",
   "execution_count": null,
   "metadata": {},
   "outputs": [],
   "source": [
    "participants_n[\"N\"] = participants_n[\"N\"].astype(int)\n",
    "print(participants_n['N'].mean())\n",
    "g = sns.boxplot(y=\"N\", data=participants_n)\n",
    "plt.show()\n",
    "g2 = participants_n['N'].plot(bins = 20,kind ='hist', xlim = [0,500])\n",
    "plt.show()"
   ]
  },
  {
   "cell_type": "code",
   "execution_count": null,
   "metadata": {},
   "outputs": [],
   "source": [
    "participants_no_n= participants_total[participants_total['N']== '-']\n",
    "participants_no_n"
   ]
  },
  {
   "cell_type": "code",
   "execution_count": null,
   "metadata": {},
   "outputs": [],
   "source": [
    "participants_female = df_participants.groupby(['paper_id', 'n_female']).nth(0)\n",
    "participants_female.reset_index(inplace =  True)"
   ]
  },
  {
   "cell_type": "code",
   "execution_count": null,
   "metadata": {},
   "outputs": [],
   "source": [
    "participants_without_female= participants_female[participants_female['n_female'] == '-']\n",
    "participants_without_female"
   ]
  },
  {
   "cell_type": "code",
   "execution_count": null,
   "metadata": {},
   "outputs": [],
   "source": [
    "participants_female= participants_female[participants_female['n_female'] != '-']\n",
    "participants_female"
   ]
  },
  {
   "cell_type": "code",
   "execution_count": null,
   "metadata": {},
   "outputs": [],
   "source": [
    "participants_female[\"n_female\"].unique()"
   ]
  },
  {
   "cell_type": "code",
   "execution_count": null,
   "metadata": {},
   "outputs": [],
   "source": [
    "participants_female[\"n_female\"] = participants_female[\"n_female\"].astype(int)\n",
    "print(participants_female['n_female'].mean())\n",
    "g = sns.boxplot(y=\"n_female\", data=participants_female)\n",
    "plt.show()\n",
    "participants_female['n_female'].plot(bins = 20,kind ='hist', xlim = [0,250])\n",
    "plt.show()"
   ]
  },
  {
   "cell_type": "code",
   "execution_count": null,
   "metadata": {},
   "outputs": [],
   "source": [
    "df_p_range_age = df_participants.groupby(['paper_id', 'range_age']).nth(0)\n",
    "df_p_range_age.reset_index(inplace =  True)"
   ]
  },
  {
   "cell_type": "code",
   "execution_count": null,
   "metadata": {},
   "outputs": [],
   "source": [
    "df_p_range_age['range_age'].unique()"
   ]
  },
  {
   "cell_type": "code",
   "execution_count": null,
   "metadata": {},
   "outputs": [],
   "source": [
    "df_p_range_age_no_cero= df_p_range_age[df_p_range_age['range_age'] != '-']"
   ]
  },
  {
   "cell_type": "code",
   "execution_count": null,
   "metadata": {},
   "outputs": [],
   "source": [
    "df_p_range_age_no_cero"
   ]
  },
  {
   "cell_type": "code",
   "execution_count": null,
   "metadata": {},
   "outputs": [],
   "source": [
    "df_p_range_age_no_cero[\"range_age\"].value_counts()"
   ]
  },
  {
   "cell_type": "code",
   "execution_count": null,
   "metadata": {},
   "outputs": [],
   "source": [
    "df_p_range_age_cero_na= df_p_range_age[df_p_range_age['range_age'] == '-']\n",
    "df_p_range_age_cero_na\n",
    "#48"
   ]
  },
  {
   "cell_type": "code",
   "execution_count": null,
   "metadata": {},
   "outputs": [],
   "source": [
    "df_p_mean_age = df_participants.groupby(['paper_id', 'mean_age']).nth(0)\n",
    "df_p_mean_age.reset_index(inplace =  True)"
   ]
  },
  {
   "cell_type": "code",
   "execution_count": null,
   "metadata": {},
   "outputs": [],
   "source": [
    "df_p_mean_with_age= df_p_mean_age[df_p_mean_age['mean_age'] != '-']\n",
    "df_p_mean_with_age"
   ]
  },
  {
   "cell_type": "code",
   "execution_count": null,
   "metadata": {},
   "outputs": [],
   "source": [
    "df_p_mean_with_no_age= df_p_mean_age[df_p_mean_age['mean_age'] == '-']\n",
    "df_p_mean_with_no_age\n",
    "#44"
   ]
  },
  {
   "cell_type": "code",
   "execution_count": null,
   "metadata": {},
   "outputs": [],
   "source": [
    "df_p_mean_with_age[\"mean_age\"] = df_p_mean_with_age[\"mean_age\"].astype(float)\n",
    "print(df_p_mean_with_age['mean_age'].mean())\n",
    "print(df_p_mean_with_age['mean_age'].min())\n",
    "print(df_p_mean_with_age['mean_age'].max())\n",
    "g = sns.boxplot(y=\"mean_age\", data=df_p_mean_with_age)\n",
    "plt.show()\n",
    "df_p_mean_with_age['mean_age'].plot(bins = 10,kind ='hist', xlim = [15,40])\n",
    "plt.show()"
   ]
  },
  {
   "cell_type": "code",
   "execution_count": null,
   "metadata": {},
   "outputs": [],
   "source": [
    "df_participants.loc[df_participants['range_age'] == \"-\", 'range_age'] = \"0\""
   ]
  },
  {
   "cell_type": "code",
   "execution_count": null,
   "metadata": {},
   "outputs": [],
   "source": [
    "range_age = df_p_range_age[df_p_range_age['range_age'] != '-']\n",
    "range_age"
   ]
  },
  {
   "cell_type": "code",
   "execution_count": null,
   "metadata": {},
   "outputs": [],
   "source": [
    "range_age['range_age'] = range_age['range_age'].str.replace('-',' ')\n",
    "range_age['range_age'].str.split()\n",
    "df_ranges = range_age['range_age'].str.split(pat = ' ', expand = True)\n",
    "df_ranges = df_ranges.dropna()\n",
    "df_ranges"
   ]
  },
  {
   "cell_type": "code",
   "execution_count": null,
   "metadata": {},
   "outputs": [],
   "source": [
    "df_ranges[0] = df_ranges[0].astype(int)\n",
    "df_ranges[1] = df_ranges[1].astype(int)"
   ]
  },
  {
   "cell_type": "code",
   "execution_count": null,
   "metadata": {},
   "outputs": [],
   "source": [
    "df_ranges[0].min()"
   ]
  },
  {
   "cell_type": "code",
   "execution_count": null,
   "metadata": {},
   "outputs": [],
   "source": [
    "df_ranges[1].max()"
   ]
  },
  {
   "cell_type": "code",
   "execution_count": null,
   "metadata": {},
   "outputs": [],
   "source": [
    "first = df_ranges[0].to_list()\n",
    "second = df_ranges[1].to_list()\n",
    "final_list = first + second\n",
    "df_range_merged = pd.DataFrame(final_list, columns = ['ages'])\n",
    "df_range_merged"
   ]
  },
  {
   "cell_type": "code",
   "execution_count": null,
   "metadata": {},
   "outputs": [],
   "source": [
    "print(df_range_merged['ages'].mean())"
   ]
  },
  {
   "cell_type": "code",
   "execution_count": null,
   "metadata": {},
   "outputs": [],
   "source": [
    "g = sns.boxplot(y=\"ages\", data=df_range_merged)\n",
    "plt.show()"
   ]
  },
  {
   "attachments": {},
   "cell_type": "markdown",
   "metadata": {},
   "source": [
    "### 4. Self-report"
   ]
  },
  {
   "cell_type": "code",
   "execution_count": null,
   "metadata": {},
   "outputs": [],
   "source": [
    "df_self_report = df_self_report.fillna('-')"
   ]
  },
  {
   "attachments": {},
   "cell_type": "markdown",
   "metadata": {},
   "source": [
    "#### ¿Cuantas veces fueron testeadas juntas las distintas dimensiones y categorias emocionales?"
   ]
  },
  {
   "attachments": {},
   "cell_type": "markdown",
   "metadata": {},
   "source": [
    "##### Primero obtenemos las categorias emocionales usadas y su frecuencia\n",
    "\n",
    "* Hubo 55 modelos que usaron categorias emocionales, siendo disgust, fear, y sadness las mas repetidas.\n",
    "* Tener en cuenta que un modelo puede usar mas de una categoria, por lo que la funcion get_values no funciona en este caso, y un paper puede concentrar la mayoria de los usos de un conjunto de categorias"
   ]
  },
  {
   "cell_type": "code",
   "execution_count": null,
   "metadata": {},
   "outputs": [],
   "source": [
    "emotional_categories_grouped = df_self_report.groupby(['paper_id','Stress', 'Disgust', 'Fear', 'Sadness', 'Surprise' ,'Happiness', 'Pleasant',\n",
    "                            'Anxiety', 'Neutral', 'Funny', 'Boredom', 'Relaxation', 'Amusement', 'Joy']).nth(0)\n",
    "emotional_categories_grouped.reset_index(inplace=True)"
   ]
  },
  {
   "cell_type": "code",
   "execution_count": null,
   "metadata": {},
   "outputs": [],
   "source": [
    "emotional_categories_grouped = multi_reversing(\n",
    "    emotional_categories_grouped, 'paper_id', \n",
    "    emotional_categories_grouped\n",
    "    [[\n",
    "    'Stress', 'Disgust', 'Fear', 'Sadness', 'Surprise' ,'Happiness', 'Pleasant',\n",
    "    'Anxiety', 'Neutral', 'Funny', 'Boredom', 'Relaxation', 'Amusement', 'Joy'\n",
    "    ]])"
   ]
  },
  {
   "cell_type": "code",
   "execution_count": null,
   "metadata": {},
   "outputs": [],
   "source": [
    "emotional_categories_grouped"
   ]
  },
  {
   "cell_type": "code",
   "execution_count": null,
   "metadata": {},
   "outputs": [],
   "source": [
    "print(emotional_categories_grouped['variable'].value_counts())\n",
    "print(emotional_categories_grouped['variable'].unique())"
   ]
  },
  {
   "cell_type": "code",
   "execution_count": null,
   "metadata": {},
   "outputs": [],
   "source": [
    "titulos = [' ', 'Categoria', 'Frecuencia']\n",
    "bar_plot('variable',emotional_categories_grouped,titulos)"
   ]
  },
  {
   "cell_type": "code",
   "execution_count": null,
   "metadata": {},
   "outputs": [],
   "source": [
    "emotional_dimensions_grouped = df_self_report.groupby([\n",
    "    'paper_id','valence',\n",
    "    'arousal', 'dominance', 'like / dislike', 'familiarity', 'engagement',\n",
    "    'predictability']).nth(0)\n",
    "emotional_dimensions_grouped.reset_index(inplace=True)"
   ]
  },
  {
   "cell_type": "code",
   "execution_count": null,
   "metadata": {},
   "outputs": [],
   "source": [
    "emotional_dimensions_grouped = multi_reversing(\n",
    "    emotional_dimensions_grouped, 'paper_id', \n",
    "    emotional_dimensions_grouped\n",
    "    [[\n",
    "    'valence',\n",
    "    'arousal', 'dominance', 'like / dislike', 'familiarity', 'engagement',\n",
    "    'predictability'\n",
    "    ]])"
   ]
  },
  {
   "cell_type": "code",
   "execution_count": null,
   "metadata": {},
   "outputs": [],
   "source": [
    "emotional_dimensions_grouped"
   ]
  },
  {
   "cell_type": "code",
   "execution_count": null,
   "metadata": {},
   "outputs": [],
   "source": [
    "print(emotional_dimensions_grouped['variable'].value_counts())\n",
    "print(emotional_dimensions_grouped['variable'].unique())"
   ]
  },
  {
   "cell_type": "code",
   "execution_count": null,
   "metadata": {},
   "outputs": [],
   "source": [
    "titulos = [' ', 'Dimension', 'Frequency']\n",
    "bar_plot('variable',emotional_dimensions_grouped,titulos)"
   ]
  },
  {
   "cell_type": "code",
   "execution_count": null,
   "metadata": {},
   "outputs": [],
   "source": [
    "g= sns.countplot(x='year', \n",
    "    data= df_models, \n",
    "    hue='model', \n",
    "    order=category_order)\n",
    "g.set(xlabel = 'Año', ylabel = 'Cantidad de modelos')\n",
    "plt.savefig('.\\\\Emmanuel\\\\figures\\\\NUEVOS. Cantidad de modelos de regresion y clasificacion por año (2010 - 2020).png')"
   ]
  },
  {
   "cell_type": "code",
   "execution_count": null,
   "metadata": {},
   "outputs": [],
   "source": [
    "df_models[\"model\"].value_counts()"
   ]
  },
  {
   "cell_type": "code",
   "execution_count": null,
   "metadata": {},
   "outputs": [],
   "source": [
    "df_models[\"model\"].value_counts(normalize=True).mul(100).round(1).astype(str) + '%'"
   ]
  },
  {
   "attachments": {},
   "cell_type": "markdown",
   "metadata": {},
   "source": [
    "#### Grafo"
   ]
  },
  {
   "cell_type": "code",
   "execution_count": null,
   "metadata": {},
   "outputs": [],
   "source": [
    "#creacion matrix de adyacencia\n",
    "df_self_report.fillna('-', inplace= True)\n",
    "self_0 = df_self_report[df_self_report['is_categorial']!= '-']\n",
    "\n",
    "df_matrix_con_paperid_0 = self_0.groupby(\n",
    "        [\"paper_id\",'Anger',\n",
    "        'Stress', 'Disgust', 'Fear', 'Sadness', 'Surprise', 'Happiness',\n",
    "        'Pleasant', 'Anxiety', 'Neutral', 'Funny', 'Boredom', 'Relaxation', 'Amusement', 'Joy']\n",
    "        ).nth(0)\n",
    "df_matrix_con_paperid_0.reset_index(inplace=True)\n",
    "\n",
    "print(df_matrix_con_paperid_0)\n",
    "\n",
    "df_matrix = df_matrix_con_paperid_0[['Anger',\n",
    "        'Stress', 'Disgust', 'Fear', 'Sadness', 'Surprise', 'Happiness',\n",
    "        'Pleasant', 'Anxiety', 'Neutral', 'Funny', 'Boredom', 'Relaxation', 'Amusement', 'Joy']\n",
    "        ]\n",
    "\n",
    "df_matrix = df_matrix.replace('-', 0)\n",
    "df_matrix = df_matrix.replace('x', 1)\n",
    "adj_matrix = df_matrix.T.dot(df_matrix)\n",
    "np.fill_diagonal(adj_matrix.values, 0)"
   ]
  },
  {
   "cell_type": "code",
   "execution_count": null,
   "metadata": {},
   "outputs": [],
   "source": [
    "adj_matrix"
   ]
  },
  {
   "cell_type": "code",
   "execution_count": null,
   "metadata": {},
   "outputs": [],
   "source": [
    "weights = nx.get_edge_attributes(Gd,'weight').values()\n",
    "\n",
    "fig, ax = plt.subplots(figsize=(30, 30))\n",
    "\n",
    "pos = nx.circular_layout(Gd)\n",
    "\n",
    "\"\"\"nx.draw(Gd, pos, \n",
    "        edge_color=weights, \n",
    "        node_color='skyblue',\n",
    "        width=[i*1.5 for i in weights],\n",
    "        with_labels=True,\n",
    "        node_size=13000,\n",
    "        alpha=1,\n",
    "        font_size=20,\n",
    "        font_weight=\"bold\",\n",
    "        arrows=False,\n",
    "        edge_cmap=plt.colormaps['cividis'])\"\"\"\n",
    "\n",
    "\n",
    "\n",
    "nx.draw(Gd, pos, \n",
    "        edgecolors=\"black\", \n",
    "        node_color='white',\n",
    "        width=[i/1.5 for i in weights],\n",
    "        node_size=2000,\n",
    "        linewidths=3,\n",
    "        alpha=1,\n",
    "        font_size=25,\n",
    "        font_weight=\"bold\",\n",
    "        arrows=False,\n",
    "        edge_cmap=plt.colormaps['copper'])\n",
    "\n",
    "boxes = dict(facecolor='white', alpha=1)\n",
    "\n",
    "pos_nodes = nudge(pos, 0, 0.1)    \n",
    "nx.draw_networkx_labels(Gd, pos=pos_nodes, labels=None, font_size=30, font_color='k',\n",
    "                        font_family='serif', font_weight='normal', alpha=None, bbox=boxes, horizontalalignment='center', \n",
    "                        verticalalignment='center', ax=None, clip_on=True)\n",
    "\n",
    "\n",
    "plt.savefig('.\\\\Emmanuel\\\\figures\\\\NUEVOS. Conexiones entre dimensiones emocionales - Colores y grosor segun numero de relaciones.png')"
   ]
  },
  {
   "cell_type": "code",
   "execution_count": null,
   "metadata": {},
   "outputs": [],
   "source": [
    "relaciones(weights)"
   ]
  },
  {
   "cell_type": "code",
   "execution_count": null,
   "metadata": {},
   "outputs": [],
   "source": [
    "df_self_report"
   ]
  },
  {
   "cell_type": "code",
   "execution_count": null,
   "metadata": {},
   "outputs": [],
   "source": [
    "df_self_report['use_questionnaite'] = df_self_report['use_questionnaite'].str.replace('x',\"Yes\")\n",
    "df_self_report['use_questionnaite'] = df_self_report['use_questionnaite'].str.replace('-',\"No\")\n",
    "df_self_report['use_questionnaite'] = df_self_report['use_questionnaite'].str.replace(\"Relies on  other's questionnaire\",\"Relies on other's questionnaire\")\n",
    "df_self_report['use_questionnaite'] = df_self_report['use_questionnaite'].str.replace(\"Relies on other´s questionaire\",\"Relies on other's questionnaire\")"
   ]
  },
  {
   "cell_type": "code",
   "execution_count": null,
   "metadata": {},
   "outputs": [],
   "source": [
    "df_self_report.iloc[:,0:9]\n",
    "used_questionnaries = df_self_report.groupby(['paper_id', \"use_questionnaite\"]).nth(0)\n",
    "used_questionnaries.reset_index(inplace= True)\n",
    "used_questionnaries[\"use_questionnaite\"].value_counts()"
   ]
  },
  {
   "cell_type": "code",
   "execution_count": null,
   "metadata": {},
   "outputs": [],
   "source": [
    "used_questionnaries[\"use_questionnaite\"].value_counts(normalize=True).mul(100).round(1).astype(str) + '%'"
   ]
  },
  {
   "cell_type": "code",
   "execution_count": null,
   "metadata": {},
   "outputs": [],
   "source": [
    "questionnaries = df_self_report.groupby(['paper_id', 'affective_questionaire_SAM','affective_questionaire_PSS', \n",
    "                                         \"affective_questionaire_PANAS\", \"affective_questionaire_DES\", \"affective_questionaire_affective_grid\"]).nth(0)\n",
    "questionnaries.reset_index(inplace= True)\n",
    "questionnaries = multi_reversing(questionnaries, 'paper_id', questionnaries[['affective_questionaire_SAM','affective_questionaire_PSS', \"affective_questionaire_PANAS\", \"affective_questionaire_DES\", \"affective_questionaire_affective_grid\"]])\n",
    "questionnaries['variable'].value_counts()"
   ]
  },
  {
   "cell_type": "code",
   "execution_count": null,
   "metadata": {},
   "outputs": [],
   "source": [
    "questionnaries['variable'].value_counts(normalize=True).mul(100).round(1).astype(str) + '%'"
   ]
  },
  {
   "attachments": {},
   "cell_type": "markdown",
   "metadata": {},
   "source": [
    "#### relax_bore_stress"
   ]
  },
  {
   "cell_type": "code",
   "execution_count": null,
   "metadata": {},
   "outputs": [],
   "source": [
    "df_self_report_compressed = df_self_report[[\"apa_citation\", \"Boredom\", \"Relaxation\", \"Stress\"]]\n",
    "relax_bore_stress = df_self_report_compressed[df_self_report_compressed['Boredom'].isin(['x', 'X']) | df_self_report_compressed['Relaxation'].isin(['x', 'X']) | df_self_report_compressed['Stress'].isin(['x', 'X'])]"
   ]
  },
  {
   "cell_type": "code",
   "execution_count": null,
   "metadata": {},
   "outputs": [],
   "source": [
    "relax_bore_stress"
   ]
  },
  {
   "attachments": {},
   "cell_type": "markdown",
   "metadata": {},
   "source": [
    "### 5. Emotion elicitation techniques"
   ]
  },
  {
   "cell_type": "code",
   "execution_count": null,
   "metadata": {},
   "outputs": [],
   "source": [
    "df_emotion_elicitation_techniques.fillna('-', inplace= True)"
   ]
  },
  {
   "cell_type": "code",
   "execution_count": null,
   "metadata": {},
   "outputs": [],
   "source": [
    "df_technniques_no_dup = df_emotion_elicitation_techniques.drop_duplicates(subset=\"paper_id\")"
   ]
  },
  {
   "cell_type": "code",
   "execution_count": null,
   "metadata": {},
   "outputs": [],
   "source": [
    "df_technniques_no_dup = df_technniques_no_dup.groupby(['paper_id',\"technique_name\"]).nth(0)\n",
    "df_technniques_no_dup.reset_index(inplace=True)\n",
    "df_technniques_no_dup[\"technique_name\"].value_counts()\n",
    "df_technniques_no_dup[\"technique_name\"].value_counts(normalize=True).mul(100).round(1).astype(str) + '%'\n",
    "df_emotion_elicitation_techniques.columns\n",
    "df_emotion_elicitation_techniques[\"technique_name\"].value_counts()\n",
    "df_emotion_elicitation_techniques[\"technique_name\"].value_counts(normalize=True).mul(100).round(1).astype(str) + '%'\n",
    "techniques_defined = df_emotion_elicitation_techniques[df_emotion_elicitation_techniques[\"technique_name\"] != \"-\"]\n",
    "techniques_defined[\"technique_name\"].value_counts(normalize=True).mul(100).round(1).astype(str) + '%'\n",
    "df_emotion_elicitation_techniques[\"is_multimodal\"].value_counts(normalize=True).mul(100).round(1).astype(str) + '%'\n",
    "type_task = df_emotion_elicitation_techniques.groupby(['paper_id', 'task_type_active','task_type_pasive']).nth(0)\n",
    "type_task.reset_index(inplace= True)\n",
    "len(type_task[(type_task['task_type_active'] == '-') &\n",
    "            (type_task['task_type_pasive'] == '-')])\n",
    "task_type = multi_reversing(type_task, 'model_id', type_task[['task_type_active','task_type_pasive']])\n",
    "task_type['variable'].value_counts()\n",
    "task_type['variable'].value_counts(normalize=True).mul(100).round(1).astype(str) + '%'\n",
    "freq_modality = df_emotion_elicitation_techniques.groupby(['paper_id','is_multimodal','modality_visual','modality_auditory', 'modality_somatosensory']).nth(0)\n",
    "freq_modality.reset_index(inplace=True)\n",
    "df_modality = multi_reversing(freq_modality, 'model_id', freq_modality[['is_multimodal','modality_visual','modality_auditory', 'modality_somatosensory']])\n",
    "df_modality['variable'].value_counts()\n",
    "df_modality['variable'].value_counts(normalize=True).mul(100).round(1).astype(str) + '%'\n",
    "number_modality = sum(df_modality['variable'].value_counts())\n",
    "print (f'Se hallaron {number_modality} instancias en total entre multimodal, visual, auditory y somatosensory.')\n",
    "visual_modality = df_emotion_elicitation_techniques.groupby(['paper_id','visual_pictures', 'visual_videos', 'visual_words', 'visual_other']).nth(0)\n",
    "visual_modality.reset_index(inplace=True)\n",
    "\n",
    "df_visual_modality = multi_reversing(visual_modality, 'model_id', visual_modality[['visual_pictures', 'visual_videos', 'visual_words', 'visual_other']])\n",
    "df_visual_modality['variable'].value_counts()\n",
    "df_visual_modality['variable'].value_counts(normalize=True).mul(100).round(1).astype(str) + '%'\n",
    "auditory_modality = df_emotion_elicitation_techniques.groupby(['paper_id','auditory_miusic', 'auditory_other']).nth(0)\n",
    "auditory_modality.reset_index(inplace=True)\n",
    "\n",
    "df_auditory_modality = multi_reversing(auditory_modality, 'model_id', auditory_modality[['auditory_miusic', 'auditory_other']])\n",
    "df_auditory_modality['variable'].value_counts()\n",
    "df_auditory_modality['variable'].value_counts(normalize=True).mul(100).round(1).astype(str) + '%'\n",
    "other_techniques = df_emotion_elicitation_techniques.groupby(['paper_id','technique_clasif_multiple_techniques', 'technique_clasif_driving',\n",
    "'technique_clasif_Imagination techniques /memory recall',\n",
    "'technique_clasif_Social interactions',\n",
    "'technique_clasif_Virtual Reality', 'technique_clasif_Meditation',\n",
    "'technique_clasif_Reading', 'technique_clasif_Ux',\n",
    "'technique_clasif_TEM clips (Tactile Enhanced Multimedia)',\n",
    "'technique_clasif_Videogame', 'technique_clasif_Puzzle']).nth(0)\n",
    "other_techniques.reset_index(inplace=True)\n",
    "\n",
    "df_other_techniques = multi_reversing(other_techniques, 'model_id', other_techniques[['technique_clasif_multiple_techniques', 'technique_clasif_driving',\n",
    "'technique_clasif_Imagination techniques /memory recall',\n",
    "'technique_clasif_Social interactions',\n",
    "'technique_clasif_Virtual Reality', 'technique_clasif_Meditation',\n",
    "'technique_clasif_Reading', 'technique_clasif_Ux',\n",
    "'technique_clasif_TEM clips (Tactile Enhanced Multimedia)',\n",
    "'technique_clasif_Videogame', 'technique_clasif_Puzzle']])\n",
    "df_other_techniques['variable'].value_counts()\n",
    "all_techniques = df_emotion_elicitation_techniques.groupby(['paper_id','visual_pictures', 'visual_videos', 'visual_words', 'visual_other',\n",
    "                                                            'auditory_miusic', 'auditory_other', 'technique_clasif_driving',\n",
    "                                                            'technique_clasif_Imagination techniques /memory recall',\n",
    "                                                            'technique_clasif_Social interactions',\n",
    "                                                            'technique_clasif_Virtual Reality', 'technique_clasif_Meditation',\n",
    "                                                            'technique_clasif_Reading', 'technique_clasif_Ux',\n",
    "                                                            'technique_clasif_TEM clips (Tactile Enhanced Multimedia)',\n",
    "                                                            'technique_clasif_Videogame', 'technique_clasif_Puzzle']).nth(0)\n",
    "all_techniques.reset_index(inplace=True)\n",
    "\n",
    "df_all_techniques = multi_reversing(all_techniques, 'model_id', all_techniques[['visual_pictures', 'visual_videos', 'visual_words', 'visual_other',\n",
    "                                                            'auditory_miusic', 'auditory_other',\n",
    "                                                            'technique_clasif_driving',\n",
    "                                                            'technique_clasif_Imagination techniques /memory recall',\n",
    "                                                            'technique_clasif_Social interactions',\n",
    "                                                            'technique_clasif_Virtual Reality', 'technique_clasif_Meditation',\n",
    "                                                            'technique_clasif_Reading', 'technique_clasif_Ux',\n",
    "                                                            'technique_clasif_TEM clips (Tactile Enhanced Multimedia)',\n",
    "                                                            'technique_clasif_Videogame', 'technique_clasif_Puzzle']])\n",
    "df_all_techniques['variable'].value_counts()\n",
    "df_all_techniques['variable'].value_counts(normalize=True).mul(100).round(1).astype(str) + '%'\n",
    "len(df_all_techniques['variable'])"
   ]
  },
  {
   "attachments": {},
   "cell_type": "markdown",
   "metadata": {},
   "source": [
    "### 6.EDA"
   ]
  },
  {
   "cell_type": "code",
   "execution_count": null,
   "metadata": {},
   "outputs": [],
   "source": [
    "df_eda = df_eda.fillna('-')\n",
    "eda_devices = df_eda[df_eda['eda_device_specification']!= '-']  #me quedo solo con las rows que usaron dispositivos"
   ]
  },
  {
   "attachments": {},
   "cell_type": "markdown",
   "metadata": {},
   "source": [
    "#### ¿En cuantas ocasiones no aclara el dispositivo de EDA utilizado?"
   ]
  },
  {
   "cell_type": "code",
   "execution_count": null,
   "metadata": {},
   "outputs": [],
   "source": [
    "aver = df_eda.groupby(['paper_id', 'eda_device_specification']).nth(0)\n",
    "aver.reset_index(inplace= True)\n",
    "len(aver[aver['eda_device_specification'] == '-'])"
   ]
  },
  {
   "cell_type": "code",
   "execution_count": null,
   "metadata": {},
   "outputs": [],
   "source": [
    "len(aver[\"eda_device_specification\"])"
   ]
  },
  {
   "cell_type": "code",
   "execution_count": null,
   "metadata": {},
   "outputs": [],
   "source": [
    "aver[\"eda_device_specification\"].value_counts(normalize=True).mul(100).round(1).astype(str) + '%'"
   ]
  },
  {
   "cell_type": "code",
   "execution_count": null,
   "metadata": {},
   "outputs": [],
   "source": [
    "aver[\"eda_device_specification\"].value_counts()\n",
    "plt.figure(figsize = (15,5))\n",
    "g = sns.countplot(x=\"eda_device_specification\", data=aver, order = getattr(aver, \"eda_device_specification\").value_counts().index)\n",
    "plt.xticks(rotation=90)"
   ]
  },
  {
   "attachments": {},
   "cell_type": "markdown",
   "metadata": {},
   "source": [
    "#### ¿Cuantos eda devices HOMEMADE hay?"
   ]
  },
  {
   "cell_type": "code",
   "execution_count": null,
   "metadata": {},
   "outputs": [],
   "source": [
    "df_eda['eda_device_is_homemade'].value_counts()"
   ]
  },
  {
   "cell_type": "code",
   "execution_count": null,
   "metadata": {},
   "outputs": [],
   "source": [
    "df_eda['eda_device_is_homemade'].value_counts(normalize=True).mul(100).round(1).astype(str) + '%'"
   ]
  },
  {
   "cell_type": "code",
   "execution_count": null,
   "metadata": {},
   "outputs": [],
   "source": [
    "eda_devices = eda_devices.groupby(['paper_id', 'eda_device_specification']).nth(0)\n",
    "eda_devices.reset_index(inplace=True)"
   ]
  },
  {
   "cell_type": "code",
   "execution_count": null,
   "metadata": {},
   "outputs": [],
   "source": [
    "eda_devices['eda_device_specification'].value_counts()"
   ]
  },
  {
   "cell_type": "code",
   "execution_count": null,
   "metadata": {},
   "outputs": [],
   "source": [
    "# REDUCIMOS LAS CATEGORÍAS AGRUPANDOLAS\n",
    "main_categories = ['BIOPAC', 'Empatica','GSR2','Sociograph', 'Variport', 'Shimmer', 'BioRadio 150', 'Affectiva-QSensors5','ProComp Infinity','PowerLab', 'Grove']\n",
    "\n",
    "def reduce_categories(list_categories):\n",
    "    '''\n",
    "    esta función toma una lista de categorias y reemplaza por ellas a las rows con categorías similares\n",
    "    \n",
    "    ej: reemplaza por BIOPAC a 'BIOPAC 150'\n",
    "\n",
    "    '''\n",
    "    for category in list_categories:\n",
    "        for i in eda_devices.loc[:,'eda_device_specification']:\n",
    "            if fuzz.ratio(category, i) > 45:\n",
    "                eda_devices.loc[:,'eda_device_specification'] = eda_devices.loc[:,'eda_device_specification'].replace({i:category})\n",
    "\n",
    "# Reducimos algunas categorías a partir de la funcion reduce_categories\n",
    "reduce_categories(main_categories)\n",
    "\n",
    "# Aún quedan algunas categorias sin unificar asi que unifico las restantes y resuelvo las inconsistencias por diferencias de tipeo o abreviaciones\n",
    "mapping_eda = {\n",
    "    'MP150 Biopac': 'BIOPAC', 'MP35 Biopac' : 'BIOPAC','MP150':'BIOPAC','Biopac\\r\\nMP36' : 'BIOPAC',\n",
    "    'Biosemi activeTwo' : 'Biosemi ActiveTwo', 'Biosemi ActiveTwo ':'Biosemi ActiveTwo',\n",
    "    'PowerLab (manufactured\\r\\nby ADInstruments)': 'PowerLab',\n",
    "    'Affectiva-QSensors5': 'Q Sensor by Afectiva',\n",
    "    'Shimmer3 GSR+ Unit sensor':'Shimmer',\n",
    "    'sensors produced by Thought Technology' : 'Thought Technology',\n",
    "    'Grove\\r\\n(a standalone LM324 quadruple operational amplifier based on EDA sensor kit)':'Grove',\n",
    "    'Grove GSR sensor produced by Seeed':'Grove',\n",
    "    'Gen II integrated wearable device from Analog Devices, Inc': 'Gen II Analog Devices',\n",
    "    'e-Health Sensor\\nPlatform V2.0' : 'e-Health Sensor Platform V2.0',\n",
    "    '(BITalino (r)evolution Plugged\\r\\nKit BT':'(BITalino (r)evolution Plugged Kit BT ',\n",
    "    'Nexus-10' : 'NEXUS', 'Nexus 4 Biofeedback system3':'NEXUS', #NO ESTOY SEGURO SI ESTO REALMENTE SON LO MISMO, O SIQUIERA SI NEXUS ES LA MARCA\n",
    "    'Nexus-32' : 'NEXUS'         }\n",
    "\n",
    "\n",
    "eda_devices.loc[:,'eda_device_specification'] = eda_devices.loc[:,'eda_device_specification'].replace(mapping_eda)"
   ]
  },
  {
   "cell_type": "code",
   "execution_count": null,
   "metadata": {},
   "outputs": [],
   "source": [
    "eda_devices['eda_device_specification'].value_counts(normalize=True).mul(100).round(1).astype(str) + '%'"
   ]
  },
  {
   "cell_type": "code",
   "execution_count": null,
   "metadata": {},
   "outputs": [],
   "source": [
    "#In percentage\n",
    "#Plot\n",
    "eda_devices['eda_device_specification'].value_counts(normalize=True).mul(100).round(1).astype(str) + '%'"
   ]
  },
  {
   "attachments": {},
   "cell_type": "markdown",
   "metadata": {},
   "source": [
    "¿Cuantos dipositivos de eda diferentes se utilizaron?"
   ]
  },
  {
   "cell_type": "code",
   "execution_count": null,
   "metadata": {},
   "outputs": [],
   "source": [
    "n_dispositivos_eda = eda_devices['eda_device_specification'].nunique()\n",
    "print (f'Se utilizaron {n_dispositivos_eda} dispositivos de EDA diferentes')"
   ]
  },
  {
   "attachments": {},
   "cell_type": "markdown",
   "metadata": {},
   "source": [
    "¿En cuántas instancias de nuestro interés se especificó el dispositivo de EDA utilizado?"
   ]
  },
  {
   "cell_type": "code",
   "execution_count": null,
   "metadata": {},
   "outputs": [],
   "source": [
    "number_eda = sum(eda_devices['eda_device_specification'].value_counts())\n",
    "print (f' Tenemos {number_eda} de instancias donde se aclaró el dispositivo de EDA utilizado.')"
   ]
  },
  {
   "cell_type": "code",
   "execution_count": null,
   "metadata": {},
   "outputs": [],
   "source": [
    "#Plot\n",
    "from turtle import width\n",
    "\n",
    "\n",
    "plt.figure(figsize = (23,16))\n",
    "sns.set_context('paper')\n",
    "sns.countplot(y = 'eda_device_specification',\n",
    "            data = eda_devices,\n",
    "            order = eda_devices['eda_device_specification'].value_counts().index)\n",
    "plt.ylabel('Device',\n",
    "            fontsize = 24,\n",
    "            fontweight = 'bold')\n",
    "plt.xlabel('')\n",
    "plt.yticks(fontsize = 25)\n",
    "plt.xticks(ticks = range(1,19), fontsize = 23)\n",
    "plt.show()"
   ]
  },
  {
   "cell_type": "code",
   "execution_count": null,
   "metadata": {},
   "outputs": [],
   "source": [
    "#Aquellos que tenian una frecuencia de 4 o menos los agrupamos en 'Others'\n",
    "mapping_others ={\n",
    "        \n",
    "        'Mindfield eSense': 'Others (<1)',\n",
    "        'BioNeuro multichannel biofeedback instrument': 'Others (<1)',\n",
    "        'Thought Technology': 'Others (<1)',\n",
    "        'e-Health Sensor Platform V2.0': 'Others (<1)',\n",
    "        'Bodymedia': 'Others (<1)',\n",
    "        'LabVIEW': 'Others (<1)',\n",
    "        'Biosignalplux': 'Others (<1)',\n",
    "        'Gen II Analog Devices': 'Others (<1)',\n",
    "        'Microsoft Band 2': 'Others (<1)',\n",
    "        'RespiBAN Professional': 'Others (<1)',\n",
    "        '(BITalino (r)evolution Plugged Kit BT ': 'Others (<1)'}\n",
    "\n",
    "devices_with_others = eda_devices.copy()\n",
    "\n",
    "devices_with_others.loc[:,'eda_device_specification'] = devices_with_others.loc[:,'eda_device_specification'].replace(mapping_others)\n",
    "devices_with_others['eda_device_specification'].value_counts()"
   ]
  },
  {
   "cell_type": "code",
   "execution_count": null,
   "metadata": {},
   "outputs": [],
   "source": [
    "#Orden\n",
    "plot_order = ['Biosemi ActiveTwo','BIOPAC', 'Shimmer', 'Empatica','BioRadio 150', 'PowerLab', 'Q Sensor by Afectiva' , 'Grove','NEXUS','ProComp Infinity', 'GSR2','Sociograph', 'Commercial bluetooth sensor', 'Variport', 'Others (<1)']\n",
    "\n",
    "#Plot\n",
    "plt.figure(figsize = (28,14))\n",
    "sns.set_context('paper')\n",
    "sns.countplot(y = 'eda_device_specification',\n",
    "            data = devices_with_others,\n",
    "            order = plot_order,\n",
    "            palette = \"bone\")\n",
    "plt.ylabel('Device', fontsize = 23,fontweight = 'bold')\n",
    "plt.xlabel('Quantity', fontsize = 23)\n",
    "plt.yticks(fontsize = 24)\n",
    "plt.xticks(ticks = range(1,19), fontsize = 22)\n",
    "plt.show()"
   ]
  },
  {
   "cell_type": "code",
   "execution_count": null,
   "metadata": {},
   "outputs": [],
   "source": [
    "devices_with_others[\"eda_device_specification\"].value_counts(normalize=True).mul(100).round(1).astype(str) + '%'"
   ]
  },
  {
   "cell_type": "code",
   "execution_count": null,
   "metadata": {},
   "outputs": [],
   "source": [
    "df_eda['location_hemibody'] = df_eda['location_hemibody'].replace({'non-dominant': 'not dominant'})"
   ]
  },
  {
   "cell_type": "code",
   "execution_count": null,
   "metadata": {},
   "outputs": [],
   "source": [
    "hemibody = df_eda.groupby(['paper_id', 'location_hemibody']).nth(0)\n",
    "hemibody.reset_index(inplace=True)\n",
    "hemibody['location_hemibody'].value_counts()"
   ]
  },
  {
   "cell_type": "code",
   "execution_count": null,
   "metadata": {},
   "outputs": [],
   "source": [
    "sum(hemibody['location_hemibody'].value_counts())"
   ]
  },
  {
   "cell_type": "code",
   "execution_count": null,
   "metadata": {},
   "outputs": [],
   "source": [
    "hemibody['location_hemibody'].value_counts(normalize=True).mul(100).round(1).astype(str) + '%'"
   ]
  },
  {
   "cell_type": "code",
   "execution_count": null,
   "metadata": {},
   "outputs": [],
   "source": [
    "hemibody_only_reported = hemibody[hemibody['location_hemibody'] != \"-\"]\n",
    "hemibody_only_reported['location_hemibody'].value_counts(normalize=True).mul(100).round(1).astype(str) + '%'"
   ]
  },
  {
   "cell_type": "code",
   "execution_count": null,
   "metadata": {},
   "outputs": [],
   "source": [
    "sensors = df_eda.groupby(['paper_id','is_hands','wrist', 'chest', 'left_lobe_temporalis',\n",
    "                    'finger_thumb', 'finger_index', 'finger_mIddle', 'finger_ring', 'finger_little',\n",
    "                     'phalange_proximal', 'phalange_medial','phalange_distal',\n",
    "                     ]).nth(0)\n",
    "sensors.reset_index(inplace= True)"
   ]
  },
  {
   "cell_type": "code",
   "execution_count": null,
   "metadata": {},
   "outputs": [],
   "source": [
    "sensors_location = df_eda.groupby(['paper_id','is_hands','wrist', 'chest', 'left_lobe_temporalis']).nth(0)\n",
    "sensors_location.reset_index(inplace = True)"
   ]
  },
  {
   "attachments": {},
   "cell_type": "markdown",
   "metadata": {},
   "source": [
    "PAPERS WITH NO DATA RELATED TO SENSORS LOCATION"
   ]
  },
  {
   "cell_type": "code",
   "execution_count": null,
   "metadata": {},
   "outputs": [],
   "source": [
    "len(sensors[(sensors['is_hands'] == '-') &\n",
    "            (sensors['wrist'] == '-') &\n",
    "            (sensors['chest'] == '-') &\n",
    "            (sensors['left_lobe_temporalis'] == '-')])"
   ]
  },
  {
   "cell_type": "code",
   "execution_count": null,
   "metadata": {},
   "outputs": [],
   "source": [
    "general_place = multi_reversing(sensors, 'model_id',sensors[['is_hands','wrist', 'chest', 'left_lobe_temporalis']])\n",
    "general_place['variable'].value_counts()"
   ]
  },
  {
   "cell_type": "code",
   "execution_count": null,
   "metadata": {},
   "outputs": [],
   "source": [
    "general_place['variable'].value_counts(normalize=True).mul(100).round(1).astype(str) + '%'"
   ]
  },
  {
   "cell_type": "code",
   "execution_count": null,
   "metadata": {},
   "outputs": [],
   "source": [
    "finger_sensor = multi_reversing(sensors, 'model_id',sensors[['finger_thumb', 'finger_index', 'finger_mIddle', 'finger_ring', 'finger_little']])\n",
    "finger_sensor['variable'].value_counts()"
   ]
  },
  {
   "cell_type": "code",
   "execution_count": null,
   "metadata": {},
   "outputs": [],
   "source": [
    "finger_sensor['variable'].value_counts(normalize=True).mul(100).round(1).astype(str) + '%'"
   ]
  },
  {
   "cell_type": "code",
   "execution_count": null,
   "metadata": {},
   "outputs": [],
   "source": [
    "location_phalanges = multi_reversing(sensors, 'model_id',sensors[['phalange_proximal', 'phalange_medial','phalange_distal']])\n",
    "location_phalanges['variable'].value_counts()"
   ]
  },
  {
   "cell_type": "code",
   "execution_count": null,
   "metadata": {},
   "outputs": [],
   "source": [
    "finger_sensor['variable'].value_counts()"
   ]
  },
  {
   "cell_type": "code",
   "execution_count": null,
   "metadata": {},
   "outputs": [],
   "source": [
    "finger_sensor['variable'] = finger_sensor['variable'].str.replace('finger_mIddle','Middle')\n",
    "finger_sensor['variable'] = finger_sensor['variable'].str.replace('finger_index','Index')\n",
    "finger_sensor['variable'] = finger_sensor['variable'].str.replace('finger_ring','Ring')\n",
    "finger_sensor['variable'] = finger_sensor['variable'].str.replace('finger_thumb','Thumb')\n",
    "finger_sensor['variable'] = finger_sensor['variable'].str.replace('finger_little','Little')"
   ]
  },
  {
   "cell_type": "code",
   "execution_count": null,
   "metadata": {},
   "outputs": [],
   "source": [
    "fig, axes = plt.subplots(2, 2)\n",
    "\n",
    "fig.set_figheight(7)\n",
    "fig.set_figwidth(10)\n",
    "\n",
    "ax1 = sns.countplot(x = 'location_hemibody',\n",
    "    data = hemibody,\n",
    "    order = plot_order,\n",
    "    ax=axes[0,0])\n",
    "\n",
    "ax2 = sns.countplot(x = 'variable', data = general_place,\n",
    "    ax=axes[0,1])\n",
    "\n",
    "ax3 = sns.countplot(x = 'variable', data = finger_sensor,\n",
    "    ax=axes[1,0])\n",
    "\n",
    "fig.delaxes(axes[1,1])\n",
    "\n",
    "\"\"\"ax1.set_ylim([0, 1])\n",
    "ax2.set_ylim([0, 1])\"\"\"\n",
    "\n",
    "ax1.set_yticklabels(ax1.get_yticklabels())\n",
    "ax2.set_yticklabels(ax2.get_yticklabels())\n",
    "ax3.set_yticklabels(ax3.get_yticklabels())\n",
    "ax1.set_xticklabels(ax1.get_xticklabels())\n",
    "ax2.set_xticklabels(ax2.get_xticklabels())\n",
    "ax3.set_xticklabels(ax3.get_xticklabels())\n",
    "\n",
    "ax1.set_xlabel(\"Hemibody location\")\n",
    "ax1.set_ylabel(\"Count\")\n",
    "ax2.set_xlabel(\"Location of electrodes in the body\")\n",
    "ax2.set_ylabel(\"Count\")\n",
    "ax3.set_xlabel(\"Location of electrodes in the hand\")\n",
    "ax3.set_ylabel(\"Count\")\n",
    "\n",
    "\"\"\"ax1.set_title(\"Proporción de trabajos por año (2010 - 2020) segun tipo de modelo emocional\")\n",
    "ax2.set_title(\"Proporción de trabajos por año (2010 - 2020) segun tipo de algoritmo\")\"\"\"\n",
    "\n",
    "\"\"\"ax1.legend(title='Modelo afectivo', loc='upper left')\n",
    "ax2.legend(title='Tipo de algoritmo', loc='upper left')\"\"\""
   ]
  },
  {
   "attachments": {},
   "cell_type": "markdown",
   "metadata": {},
   "source": [
    "### 7. Statistical learning models"
   ]
  },
  {
   "cell_type": "code",
   "execution_count": null,
   "metadata": {},
   "outputs": [],
   "source": [
    "df_statistical_learning_models = df_statistical_learning_models.fillna('-')"
   ]
  },
  {
   "attachments": {},
   "cell_type": "markdown",
   "metadata": {},
   "source": [
    "#### 7.1. Affective models"
   ]
  },
  {
   "cell_type": "code",
   "execution_count": null,
   "metadata": {},
   "outputs": [],
   "source": [
    "#rellenar datos faltantes y NO SE DROPEAN los duplicados (hay papers que usan multiples modelos)\n",
    "df_statistical_learning_models=df_statistical_learning_models[df_statistical_learning_models['affective_model'].isin(['categorical', 'dimensional'])]\n",
    "df_statistical_learning_models_0 = df_statistical_learning_models.groupby(['paper_id','affective_model']).nth(0)\n",
    "df_statistical_learning_models_0.reset_index(inplace=True)\n",
    "\n",
    "#ploteo\n",
    "category_order = [2010, 2011, 2012, 2013, 2014, 2015, 2015, 2016, 2017, 2018, 2019, 2020]\n",
    "g= sns.countplot(x='year', \n",
    "    data= df_statistical_learning_models_0, \n",
    "    hue='affective_model', \n",
    "    order=category_order)\n",
    "g.set(xlabel = 'Año', ylabel = 'Cantidad de papers')\n",
    "plt.savefig('.\\\\Emmanuel\\\\figures\\\\NUEVOS. Cantidad de papers por año (2010-2020) segun tipo de modelo emocional.png')"
   ]
  },
  {
   "cell_type": "code",
   "execution_count": null,
   "metadata": {},
   "outputs": [],
   "source": [
    "df_statistical_learning_models_0[\"year\"] = df_statistical_learning_models_0[\"year\"].astype(int)\n",
    "df_statistical_learning_models_0"
   ]
  },
  {
   "attachments": {},
   "cell_type": "markdown",
   "metadata": {},
   "source": [
    "#### ¿Cual es la evolucion temporal (2010-2020) del uso de los modelos de regresion y categoriales empleados?\n",
    "Cantidad de modelos de regresion o categorial por anio"
   ]
  },
  {
   "attachments": {},
   "cell_type": "markdown",
   "metadata": {},
   "source": [
    "2. Hacer un plot de la progresión de modelos de regresión vs clasificación de 2010 a 2020. Este plot deberia ser igual al plot que ve la progresion de modelos dimensioanles vs categoriales. La idea con este plot seria analizar sin la progresion de papers basados en modelos dimensioanels se acompaña con modelso estadísticos de regresion (que es lo que se esperaria dado el tipo de variable, pero asumimos que no sucede)"
   ]
  },
  {
   "cell_type": "code",
   "execution_count": null,
   "metadata": {},
   "outputs": [],
   "source": [
    "def label_model (row):\n",
    "   if row['is_classifier'] == \"x\" :\n",
    "      return 'classifier'\n",
    "   if row['is_regressor'] == \"x\" :\n",
    "      return 'regressor'\n",
    "   return 'Other'"
   ]
  },
  {
   "cell_type": "code",
   "execution_count": null,
   "metadata": {},
   "outputs": [],
   "source": [
    "df_statistical_learning_models['model']  = df_statistical_learning_models.apply(lambda row: label_model(row), axis=1)"
   ]
  },
  {
   "cell_type": "code",
   "execution_count": null,
   "metadata": {},
   "outputs": [],
   "source": [
    "df_statistical_learning_models['model'].value_counts()"
   ]
  },
  {
   "cell_type": "code",
   "execution_count": null,
   "metadata": {},
   "outputs": [],
   "source": [
    "df_models = df_statistical_learning_models[[\"apa_citation\",'model', \"year\", \"model_id\"]]"
   ]
  },
  {
   "cell_type": "code",
   "execution_count": null,
   "metadata": {},
   "outputs": [],
   "source": [
    "#ploteo\n",
    "category_order = [2010, 2011, 2012, 2013, 2014, 2015, 2015, 2016, 2017, 2018, 2019, 2020]\n",
    "g= sns.countplot(x='year', \n",
    "    data= df_models, \n",
    "    hue='model', \n",
    "    order=category_order)\n",
    "g.set(xlabel = 'Año', ylabel = 'Cantidad de modelos')\n",
    "plt.savefig('.\\\\Emmanuel\\\\figures\\\\NUEVOS. Cantidad de modelos de regresion y clasificacion por año (2010 - 2020).png')"
   ]
  },
  {
   "attachments": {},
   "cell_type": "markdown",
   "metadata": {},
   "source": [
    "#### ¿Cual es la frecuencia del uso de modelos algoritmicos de regresion y clasificacion?\n",
    "3. Gráficos frencuencia de los modelos algoritimicos, según modelos de regresión y clasificación\n",
    "\n",
    "- Interpretaciones: Los algoritmos clasificadores son por mucho los mas usados, ademas de ser los que mas variedad representan. Que implica esto? Es lo mismo aplicar algoritmos clasificadores o regresores?\n",
    "- Nota: ordenar los valores de los gráficos y unirlos en uno, buscar graficar los mas usados (primeros 5 o 10) "
   ]
  },
  {
   "cell_type": "code",
   "execution_count": null,
   "metadata": {},
   "outputs": [],
   "source": [
    "df_statistical_learning_models = df_statistical_learning_models.fillna('-')\n",
    "\n",
    "#para regressor\n",
    "df_algoritmos_regre = multi_reversing(df_statistical_learning_models, 'model_id', df_statistical_learning_models.iloc[:,43:57])\n",
    "df_algoritmos_regre['variable'] = df_algoritmos_regre['variable'].str.replace('regre_','')\n",
    "\n",
    "titulos = [' ', 'Algoritmo', 'Cantidad de modelos']\n",
    "bar_plot('variable',df_algoritmos_regre,titulos)"
   ]
  },
  {
   "cell_type": "code",
   "execution_count": null,
   "metadata": {},
   "outputs": [],
   "source": [
    "#para classifier\n",
    "\n",
    "df_algoritmos_class = multi_reversing(df_statistical_learning_models, 'model_id', df_statistical_learning_models.iloc[:,8:40])\n",
    "df_algoritmos_class['variable'] = df_algoritmos_class['variable'].str.replace('class_','')\n",
    "\n",
    "#Lista de algoritmos unicos de clasificacion\n",
    "algoritmos_de_clasificacion = df_algoritmos_class[\"variable\"].unique()\n",
    "#print(algoritmos_de_clasificacion)\n",
    "\n",
    "titulos = [' ', 'Algoritmo', 'Cantidad de modelos']\n",
    "bar_plot('variable',df_algoritmos_class,titulos)"
   ]
  },
  {
   "cell_type": "code",
   "execution_count": null,
   "metadata": {},
   "outputs": [],
   "source": [
    "df_all_models = df_statistical_learning_models.iloc[:,1:57]\n",
    "df_all_models.drop(df_all_models.columns[[1,2,3,4,5,6,39,40,41]], axis=1, inplace=True)\n",
    "\n",
    "df_all_models = multi_reversing(df_all_models, 'model_id', df_all_models.iloc[:,1:])\n",
    "df_all_models['variable'] = df_all_models['variable'].str.replace('class_','')\n",
    "df_all_models['variable'] = df_all_models['variable'].str.replace('regre_','')\n",
    "\n",
    "titulos = [' ', 'Algoritmo', 'Cantidad de modelos']\n",
    "bar_plot('variable',df_all_models,titulos)"
   ]
  },
  {
   "cell_type": "code",
   "execution_count": null,
   "metadata": {},
   "outputs": [],
   "source": [
    "vc = df_all_models['variable'].value_counts()\n",
    "vc = vc.iloc[:10]\n",
    "df_dv = vc.to_frame()\n",
    "df_dv = df_dv.reset_index()\n",
    "df_dv.rename(columns = {'index':'algoritmo', 'variable':'cantidad'}, inplace = True)\n",
    "\n",
    "titulos = [' ', 'Algoritmo', 'Cantidad de modelos']\n",
    "g = sns.barplot(data=df_dv, x='algoritmo', y='cantidad', palette=\"PuBuGn\")\n",
    "g.set(title = titulos[0], xlabel = titulos[1], ylabel = titulos[2])\n",
    "plt.xticks(rotation=90)\n",
    "plt.savefig('.\\\\Emmanuel\\\\figures\\\\NUEVOS. Los 10 algoritmos mas usados.png')"
   ]
  },
  {
   "attachments": {},
   "cell_type": "markdown",
   "metadata": {},
   "source": [
    "### 8. Algorithms and performances"
   ]
  },
  {
   "cell_type": "code",
   "execution_count": null,
   "metadata": {},
   "outputs": [],
   "source": []
  },
  {
   "attachments": {},
   "cell_type": "markdown",
   "metadata": {},
   "source": [
    "#### Proporción de trabajos por año (2010 - 2020) segun tipo de modelo emocional y tipo de algoritmo"
   ]
  },
  {
   "cell_type": "code",
   "execution_count": null,
   "metadata": {},
   "outputs": [],
   "source": [
    "df_models = df_statistical_learning_models[[\"paper_id\",\"apa_citation\",'model', \"year\", \"model_id\"]]\n",
    "\n",
    "df_models = df_models.groupby(\n",
    "        [\"paper_id\",'model']\n",
    "        ).nth(0)\n",
    "df_models.reset_index(inplace=True)"
   ]
  },
  {
   "cell_type": "code",
   "execution_count": null,
   "metadata": {},
   "outputs": [],
   "source": [
    "\"\"\"df_statistical_learning_models['affective_model'] = df_statistical_learning_models['affective_model'].str.replace('categorical','categorial')\"\"\""
   ]
  },
  {
   "cell_type": "code",
   "execution_count": null,
   "metadata": {},
   "outputs": [],
   "source": [
    "models = df_statistical_learning_models[[\"paper_id\", \"year\", \"affective_model\", \"model_id\"]]\n",
    "\n",
    "models = models.groupby(\n",
    "        [\"paper_id\",'affective_model']\n",
    "        ).nth(0)\n",
    "models.reset_index(inplace=True)\n",
    "\n",
    "models[\"year\"] = models[\"year\"].astype(int)"
   ]
  },
  {
   "cell_type": "code",
   "execution_count": null,
   "metadata": {},
   "outputs": [],
   "source": [
    "models[\"affective_model\"].value_counts()"
   ]
  },
  {
   "cell_type": "code",
   "execution_count": null,
   "metadata": {},
   "outputs": [],
   "source": [
    "models_crosstab = pd.crosstab(index=models['year'], columns=models['affective_model'],normalize='index')"
   ]
  },
  {
   "cell_type": "code",
   "execution_count": null,
   "metadata": {},
   "outputs": [],
   "source": [
    "\"\"\"df_models['model'] = df_models['model'].str.replace('classifier','clasificación')\n",
    "df_models['model'] = df_models['model'].str.replace('regressor','regresión')\"\"\""
   ]
  },
  {
   "cell_type": "code",
   "execution_count": null,
   "metadata": {},
   "outputs": [],
   "source": [
    "n_models = df_models.groupby(\n",
    "        [\"paper_id\",'model']\n",
    "        ).nth(0)\n",
    "n_models.reset_index(inplace=True)\n",
    "\n",
    "n_models[\"year\"] = n_models[\"year\"].astype(int)"
   ]
  },
  {
   "cell_type": "code",
   "execution_count": null,
   "metadata": {},
   "outputs": [],
   "source": [
    "n_models_crosstab = pd.crosstab(index=n_models['year'], columns=n_models['model'],normalize='index')"
   ]
  },
  {
   "cell_type": "code",
   "execution_count": null,
   "metadata": {},
   "outputs": [],
   "source": [
    "fig, axes = plt.subplots(1, 2)\n",
    "\n",
    "fig.set_figheight(7)\n",
    "fig.set_figwidth(17)\n",
    "\n",
    "ax1 = models_crosstab.plot(kind='bar', \n",
    "    stacked=True,\n",
    "    rot=0,\n",
    "    ax=axes[0])\n",
    "\n",
    "ax2 = n_models_crosstab.plot(kind='bar', \n",
    "    stacked=True,\n",
    "    rot=0,\n",
    "    ax=axes[1])\n",
    "\n",
    "ax1.set_ylim([0, 1])\n",
    "ax2.set_ylim([0, 1])\n",
    "\n",
    "ax1.set_yticklabels(ax1.get_yticklabels())\n",
    "ax2.set_yticklabels(ax2.get_yticklabels())\n",
    "ax1.set_xticklabels(ax1.get_xticklabels())\n",
    "ax2.set_xticklabels(ax2.get_xticklabels())\n",
    "\n",
    "ax1.set_xlabel(\"Year\")\n",
    "ax1.set_ylabel(\"Proportion of articles\")\n",
    "ax2.set_xlabel(\"Year\")\n",
    "ax2.set_ylabel(\"Proportion of articles\")\n",
    "\n",
    "\"\"\"ax1.set_title(\"Proporción de trabajos por año (2010 - 2020) segun tipo de modelo emocional\")\n",
    "ax2.set_title(\"Proporción de trabajos por año (2010 - 2020) segun tipo de algoritmo\")\"\"\"\n",
    "\n",
    "ax1.legend(title='Affective model', loc='upper left')\n",
    "ax2.legend(title='Type of algorithm', loc='upper left')"
   ]
  },
  {
   "attachments": {},
   "cell_type": "markdown",
   "metadata": {},
   "source": [
    "#### Interpretation"
   ]
  },
  {
   "cell_type": "code",
   "execution_count": null,
   "metadata": {},
   "outputs": [],
   "source": [
    "data_interpretation_model = pd.read_csv('.\\data\\Tabla Normalizada - Statistical Learning model.csv')\n",
    "data_interpretation_model= data_interpretation_model.fillna('-')\n",
    "model_interpretion = data_interpretation_model[data_interpretation_model['model_interpretation'] !='-']\n",
    "model_interpretation = model_interpretion.groupby(['paper_id', 'model_interpretation']).nth(0)"
   ]
  },
  {
   "cell_type": "code",
   "execution_count": null,
   "metadata": {},
   "outputs": [],
   "source": [
    "model_interpretation.reset_index(inplace= True)\n",
    "model_interpretation.drop_duplicates(subset = ['paper_id'],inplace=True)\n",
    "model_interpretation"
   ]
  },
  {
   "cell_type": "code",
   "execution_count": null,
   "metadata": {},
   "outputs": [],
   "source": [
    "print(f' En {len(model_interpretation)} papers se realizan interpretaciones emocionales de los modelos')"
   ]
  },
  {
   "cell_type": "code",
   "execution_count": null,
   "metadata": {},
   "outputs": [],
   "source": [
    "# lista papers id\n",
    "model_interpretation_list = model_interpretation[\"paper_id\"].to_list()\n",
    "model_interpretation_list = [int(a) for a in model_interpretation_list]\n",
    "model_interpretation_list"
   ]
  },
  {
   "cell_type": "code",
   "execution_count": null,
   "metadata": {},
   "outputs": [],
   "source": [
    "df_metadata_filtered = df_metadata[df_metadata['paper_id'].isin(model_interpretation_list)]\n",
    "df_metadata_filtered.drop_duplicates(\"paper_id\", inplace= True)\n",
    "df_metadata_filtered[[\"paper_id\", \"apa_citation\", \"year\", \"source_title\"]]"
   ]
  },
  {
   "cell_type": "code",
   "execution_count": null,
   "metadata": {},
   "outputs": [],
   "source": [
    "list_journal_int = df_metadata_filtered[\"source_title\"].unique()\n",
    "list_journal_int = list_journal_int.tolist()\n",
    "list_journal_int"
   ]
  },
  {
   "cell_type": "code",
   "execution_count": null,
   "metadata": {},
   "outputs": [],
   "source": [
    "titulos = [' ', 'Journal', 'Cantidad']\n",
    "\n",
    "var_x = \"source_title\"\n",
    "df = df_metadata_filtered\n",
    "\n",
    "g = sns.countplot(y=var_x, data=df, order = getattr(df, var_x).value_counts().index)\n",
    "g.set(title = titulos[0], xlabel = titulos[1], ylabel = titulos[2])\n",
    "plt.xticks(rotation=90)\n",
    "    \n",
    "plt.tight_layout()\n",
    "plt.savefig(f'.\\\\Emmanuel\\\\figures\\\\NUEVOS. {titulos[0]}.jpg', dpi=1000)\n",
    "plt.show()"
   ]
  }
 ],
 "metadata": {
  "kernelspec": {
   "display_name": "Python 3",
   "language": "python",
   "name": "python3"
  },
  "language_info": {
   "codemirror_mode": {
    "name": "ipython",
    "version": 3
   },
   "file_extension": ".py",
   "mimetype": "text/x-python",
   "name": "python",
   "nbconvert_exporter": "python",
   "pygments_lexer": "ipython3",
   "version": "3.11.1"
  },
  "orig_nbformat": 4
 },
 "nbformat": 4,
 "nbformat_minor": 2
}
